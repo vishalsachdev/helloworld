{
  "nbformat": 4,
  "nbformat_minor": 0,
  "metadata": {
    "colab": {
      "provenance": []
    },
    "kernelspec": {
      "name": "python3",
      "display_name": "Python 3"
    },
    "language_info": {
      "name": "python"
    }
  },
  "cells": [
    {
      "cell_type": "code",
      "execution_count": null,
      "metadata": {
        "id": "SeLFXCVf5KMd"
      },
      "outputs": [],
      "source": [
        "#Use this code for the git-demo\n",
        "#write your name\n",
        "\n",
        "name = \"Akarsh\""
      ]
    }
  ]
}